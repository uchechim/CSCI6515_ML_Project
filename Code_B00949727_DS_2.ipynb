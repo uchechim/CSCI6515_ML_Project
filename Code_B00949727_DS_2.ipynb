{
 "cells": [
  {
   "cell_type": "markdown",
   "id": "b783cbd9-4813-4576-b30d-e63267c99aab",
   "metadata": {},
   "source": [
    "https://archive.ics.uci.edu/dataset/20/census+income\n",
    "\n",
    "#Classify whether or not wine is good based on the given scale."
   ]
  }
 ],
 "metadata": {
  "kernelspec": {
   "display_name": "Python 3 (ipykernel)",
   "language": "python",
   "name": "python3"
  },
  "language_info": {
   "codemirror_mode": {
    "name": "ipython",
    "version": 3
   },
   "file_extension": ".py",
   "mimetype": "text/x-python",
   "name": "python",
   "nbconvert_exporter": "python",
   "pygments_lexer": "ipython3",
   "version": "3.9.12"
  }
 },
 "nbformat": 4,
 "nbformat_minor": 5
}
