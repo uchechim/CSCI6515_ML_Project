{
 "cells": [
  {
   "cell_type": "markdown",
   "id": "37b71f05-88ca-4301-9904-c26bc1118e6d",
   "metadata": {},
   "source": [
    "# <h1><center>CSCI 6515 - Machine Learning for Big Data (Fall 2023)</h1></center>\n",
    "<h1><center>Final Project - Dataset #1</h1></center>\n",
    "\n",
    "<b>Uchenna Chima</b>  \n",
    "<b>Banner ID: B00949727</b>  \n"
   ]
  },
  {
   "cell_type": "markdown",
   "id": "84360352-8e20-4c65-a7af-0c6b0a16b234",
   "metadata": {},
   "source": [
    "Dataset Link: https://archive.ics.uci.edu/dataset/186/wine+quality\n",
    "\n",
    "Task: Classify the quality of wine based on physicochemical inputs (scientific data/features). In this dataset, we are given labels (sensory data) on a scale from 1-10 but I will discretize it so that 1-4 = poor quality, 4-7 = Average Quality, 8-10 = Great quality.\n",
    "\n",
    "Models: Decision Tree,  Random Forest, Naive Bayes, K-NN"
   ]
  },
  {
   "cell_type": "code",
   "execution_count": 34,
   "id": "92aaae13-0dc8-474a-9d8d-70afa57ba7ad",
   "metadata": {},
   "outputs": [
    {
     "name": "stdout",
     "output_type": "stream",
     "text": [
      "     fixed acidity volatile acidity citric acid residual sugar chlorides  ...  density    pH sulphates alcohol quality\n",
      "0                7             0.27        0.36           20.7     0.045  ...    1.001     3      0.45     8.8       6\n",
      "1              6.3              0.3        0.34            1.6     0.049  ...    0.994   3.3      0.49     9.5       6\n",
      "2              8.1             0.28         0.4            6.9      0.05  ...   0.9951  3.26      0.44    10.1       6\n",
      "3              7.2             0.23        0.32            8.5     0.058  ...   0.9956  3.19       0.4     9.9       6\n",
      "4              7.2             0.23        0.32            8.5     0.058  ...   0.9956  3.19       0.4     9.9       6\n",
      "...            ...              ...         ...            ...       ...  ...      ...   ...       ...     ...     ...\n",
      "1594           6.2              0.6        0.08              2      0.09  ...   0.9949  3.45      0.58    10.5       5\n",
      "1595           5.9             0.55         0.1            2.2     0.062  ...  0.99512  3.52      0.76    11.2       6\n",
      "1596           6.3             0.51        0.13            2.3     0.076  ...  0.99574  3.42      0.75      11       6\n",
      "1597           5.9            0.645        0.12              2     0.075  ...  0.99547  3.57      0.71    10.2       5\n",
      "1598             6             0.31        0.47            3.6     0.067  ...  0.99549  3.39      0.66      11       6\n",
      "\n",
      "[6497 rows x 12 columns]\n"
     ]
    }
   ],
   "source": [
    "import numpy as np\n",
    "import pandas as pd\n",
    "\n",
    "#Data Loading\n",
    "\n",
    "#Combine Data Frames (White-wine + Red-wine)\n",
    "white_wine_data = pd.read_csv('wine_dataset/winequality-white.csv')\n",
    "red_wine_data = pd.read_csv('wine_dataset/winequality-red.csv')\n",
    "wine_data = pd.concat([white_wine_data, red_wine_data],axis=0)\n",
    "\n",
    "#Due to how data was provided, i needed to split it and re-combine in order to achieve the appropriate data shape and column names.\n",
    "wine_data_split = wine_data['fixed acidity;\"volatile acidity\";\"citric acid\";\"residual sugar\";\"chlorides\";\"free sulfur dioxide\";\"total sulfur dioxide\";\"density\";\"pH\";\"sulphates\";\"alcohol\";\"quality\"'].str.split(';',expand=True)\n",
    "wine_data_split.columns=['fixed acidity', 'volatile acidity', \"citric acid\", \"residual sugar\", \"chlorides\", \"free sulfur dioxide\", \"total sulfur dioxide\", \"density\", \"pH\", \"sulphates\", \"alcohol\", \"quality\"]\n",
    "wine_data = pd.DataFrame(wine_data_split)\n",
    "\n",
    "print(wine_data)\n",
    "\n",
    "#Pre-processing (Null, Duplicates, Outlier Detection, Feature Selection, Standardization, Train/Test/Validation Splits) \n",
    "\n",
    "#Apply Decision Tree\n",
    "\n",
    "#Apply Random Forest\n",
    "\n",
    "#Apply Naive Bayes\n",
    "\n",
    "#Apply K-NN"
   ]
  },
  {
   "cell_type": "code",
   "execution_count": null,
   "id": "31a69524-d9e2-45c3-8096-573c3a8b8386",
   "metadata": {},
   "outputs": [],
   "source": []
  }
 ],
 "metadata": {
  "kernelspec": {
   "display_name": "Python 3 (ipykernel)",
   "language": "python",
   "name": "python3"
  },
  "language_info": {
   "codemirror_mode": {
    "name": "ipython",
    "version": 3
   },
   "file_extension": ".py",
   "mimetype": "text/x-python",
   "name": "python",
   "nbconvert_exporter": "python",
   "pygments_lexer": "ipython3",
   "version": "3.11.3"
  }
 },
 "nbformat": 4,
 "nbformat_minor": 5
}
