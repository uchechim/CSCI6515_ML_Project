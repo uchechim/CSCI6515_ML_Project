{
 "cells": [
  {
   "cell_type": "markdown",
   "id": "84360352-8e20-4c65-a7af-0c6b0a16b234",
   "metadata": {},
   "source": [
    "Dataset Link: https://archive.ics.uci.edu/dataset/186/wine+quality\n",
    "\n",
    "Task: Classify the quality of wine based on physicochemical inputs (scientific data/features). We are given labels (sensory data) on a scale from 1-10 but I will discretize it so that 1-4 = poor quality, 4-7 = Average Quality, 8-10 = Great quality.\n",
    "\n",
    "Models: Decision Tree,  Random Forest, Naive Bayes, K-NN"
   ]
  },
  {
   "cell_type": "code",
   "execution_count": null,
   "id": "92aaae13-0dc8-474a-9d8d-70afa57ba7ad",
   "metadata": {},
   "outputs": [],
   "source": [
    "import numpy as np\n",
    "import pandas as pd\n",
    "\n",
    "#Combine Data Frames (White-wine + Red-wine)\n",
    "\n",
    "#Pre-processing (Null, Duplicates, Outlier Detection, Feature Selection, Standardization, Train/Test/Validation Splits) \n",
    "\n",
    "#Apply Decision Tree\n",
    "\n",
    "#Apply Random Forest\n",
    "\n",
    "#Apply Naive Bayes\n",
    "\n",
    "#Apply K-NN"
   ]
  }
 ],
 "metadata": {
  "kernelspec": {
   "display_name": "Python 3 (ipykernel)",
   "language": "python",
   "name": "python3"
  },
  "language_info": {
   "codemirror_mode": {
    "name": "ipython",
    "version": 3
   },
   "file_extension": ".py",
   "mimetype": "text/x-python",
   "name": "python",
   "nbconvert_exporter": "python",
   "pygments_lexer": "ipython3",
   "version": "3.11.3"
  }
 },
 "nbformat": 4,
 "nbformat_minor": 5
}
