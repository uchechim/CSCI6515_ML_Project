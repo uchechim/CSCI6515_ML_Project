{
 "cells": [
  {
   "attachments": {},
   "cell_type": "markdown",
   "metadata": {
    "id": "3swiValoUu5U"
   },
   "source": [
    "<h1><center>CSCI 6515 - Machine Learning for Big Data (Fall 2023)</h1></center>\n",
    "<h1><center>Final Project</h1></center>\n",
    "\n",
    "<b>Group_ID: <code>replace with your group id here</code><b>\n",
    "\n",
    "<b>Group Members:</b>  \n",
    "\n",
    "1. <code><Member_1_firstname>_BannerID</code>\n",
    "2. <code><Member_2_firstname>_BannerID</code>\n",
    "3. <code><Member_3_firstname>_BannerID</code>\n",
    "4. <code><Member_4_firstname>_BannerID</code>\n"
   ]
  },
  {
   "cell_type": "markdown",
   "metadata": {},
   "source": [
    "# 1. Dataset Information \n",
    "\n",
    "<h4> Dataset Name: <code> Replace_with_the_dataset_name_here</code></h4>\n",
    "<h4> Link to the Dataset: <code>Replace_with_the_link_here</code> </h4>\n",
    "<h4> Dataset Description: </h4>\n",
    "<code> Provide short description of the dataset here </code>\n"
   ]
  },
  {
   "cell_type": "markdown",
   "metadata": {},
   "source": [
    "# 2. Task Information \n",
    "\n",
    "<h4> Task Goal: <code> Provide a short one line goal of the task here </code></h4>\n",
    "<h4> Task Description: </h4>\n",
    "    <code>Provide a short description of the goal you are trying to achieve. What is your goal, why it's important, what features you have and how you are using it in the task, what ML models you are using and why. etc.</code>"
   ]
  },
  {
   "cell_type": "markdown",
   "metadata": {
    "id": "dm4068tkVkZ4"
   },
   "source": [
    "# 3. Task Implementation: Coding"
   ]
  },
  {
   "cell_type": "markdown",
   "metadata": {},
   "source": [
    "### 3.1 Preprocessing "
   ]
  },
  {
   "cell_type": "code",
   "execution_count": null,
   "metadata": {},
   "outputs": [],
   "source": [
    "## your code. make as many cells as you need. Retain the outputs of each cell"
   ]
  },
  {
   "cell_type": "markdown",
   "metadata": {},
   "source": [
    "### 3.2 Model development and training "
   ]
  },
  {
   "cell_type": "code",
   "execution_count": null,
   "metadata": {},
   "outputs": [],
   "source": [
    "### your code. make as many cells as you need. Retain the outputs of each cell"
   ]
  },
  {
   "cell_type": "markdown",
   "metadata": {
    "collapsed": false
   },
   "source": [
    "### 3.3 Model evaluation"
   ]
  },
  {
   "cell_type": "code",
   "execution_count": null,
   "metadata": {
    "collapsed": false
   },
   "outputs": [],
   "source": [
    "### your code. make as many cells as you need. Retain the outputs of each cell"
   ]
  },
  {
   "cell_type": "markdown",
   "metadata": {
    "collapsed": false
   },
   "source": [
    "### 3.4 Analysis "
   ]
  },
  {
   "cell_type": "code",
   "execution_count": null,
   "metadata": {
    "collapsed": false
   },
   "outputs": [],
   "source": [
    "### your code. make as many cells as you need. Retain the outputs of each cell"
   ]
  }
 ],
 "metadata": {
  "colab": {
   "provenance": []
  },
  "kernelspec": {
   "display_name": "Python 3",
   "name": "python3"
  }
 },
 "nbformat": 4,
 "nbformat_minor": 0
}
