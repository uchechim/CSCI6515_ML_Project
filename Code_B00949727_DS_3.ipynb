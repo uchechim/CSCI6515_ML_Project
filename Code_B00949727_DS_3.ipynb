{
 "cells": [
  {
   "cell_type": "markdown",
   "id": "5cfd9a71-902e-4af4-87d2-b81e2eb7c9cb",
   "metadata": {},
   "source": [
    "https://archive.ics.uci.edu/dataset/76/nursery\n",
    "\n",
    "#Classify whether or not wine is good based on the given scale."
   ]
  },
  {
   "cell_type": "code",
   "execution_count": null,
   "id": "f35f59d2-66f1-4b62-858c-ff282e2058b9",
   "metadata": {},
   "outputs": [],
   "source": []
  }
 ],
 "metadata": {
  "kernelspec": {
   "display_name": "Python 3 (ipykernel)",
   "language": "python",
   "name": "python3"
  },
  "language_info": {
   "codemirror_mode": {
    "name": "ipython",
    "version": 3
   },
   "file_extension": ".py",
   "mimetype": "text/x-python",
   "name": "python",
   "nbconvert_exporter": "python",
   "pygments_lexer": "ipython3",
   "version": "3.9.12"
  }
 },
 "nbformat": 4,
 "nbformat_minor": 5
}
