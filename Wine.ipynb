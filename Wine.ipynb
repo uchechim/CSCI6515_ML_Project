{
 "cells": [
  {
   "cell_type": "markdown",
   "id": "84360352-8e20-4c65-a7af-0c6b0a16b234",
   "metadata": {},
   "source": [
    "Dataset Link: https://archive.ics.uci.edu/dataset/186/wine+quality\n",
    "\n",
    "Task: Classify whether or not wine is good based on the given scale."
   ]
  },
  {
   "cell_type": "code",
   "execution_count": null,
   "id": "92aaae13-0dc8-474a-9d8d-70afa57ba7ad",
   "metadata": {},
   "outputs": [],
   "source": []
  }
 ],
 "metadata": {
  "kernelspec": {
   "display_name": "Python 3 (ipykernel)",
   "language": "python",
   "name": "python3"
  },
  "language_info": {
   "codemirror_mode": {
    "name": "ipython",
    "version": 3
   },
   "file_extension": ".py",
   "mimetype": "text/x-python",
   "name": "python",
   "nbconvert_exporter": "python",
   "pygments_lexer": "ipython3",
   "version": "3.9.12"
  }
 },
 "nbformat": 4,
 "nbformat_minor": 5
}
